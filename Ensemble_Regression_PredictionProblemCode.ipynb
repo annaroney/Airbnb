{
  "cells": [
    {
      "cell_type": "markdown",
      "metadata": {
        "id": "view-in-github",
        "colab_type": "text"
      },
      "source": [
        "<a href=\"https://colab.research.google.com/github/annaroney/Airbnb/blob/main/Ensemble_Regression_PredictionProblemCode.ipynb\" target=\"_parent\"><img src=\"https://colab.research.google.com/assets/colab-badge.svg\" alt=\"Open In Colab\"/></a>"
      ]
    },
    {
      "cell_type": "markdown",
      "id": "b55a2bf1-a991-4831-9e57-42f7aa304bd7",
      "metadata": {
        "id": "b55a2bf1-a991-4831-9e57-42f7aa304bd7"
      },
      "source": [
        "## Prediction Problem Code\n"
      ]
    },
    {
      "cell_type": "markdown",
      "id": "0484d5ee-0a3e-4f46-a781-bea66f36939f",
      "metadata": {
        "id": "0484d5ee-0a3e-4f46-a781-bea66f36939f"
      },
      "source": [
        "**Problem:** Regression"
      ]
    },
    {
      "cell_type": "markdown",
      "id": "a52e32b3-d20d-4008-89a0-49071ecf609e",
      "metadata": {
        "id": "a52e32b3-d20d-4008-89a0-49071ecf609e"
      },
      "source": [
        "**Model:** Ensemble"
      ]
    },
    {
      "cell_type": "markdown",
      "id": "eb1d232b-a629-4426-a0f4-4364a01e87a9",
      "metadata": {
        "id": "eb1d232b-a629-4426-a0f4-4364a01e87a9"
      },
      "source": [
        "**RMSE on Kaggle:** 113.35\n"
      ]
    },
    {
      "cell_type": "code",
      "source": [
        "# run this cell if using google colab\n",
        "from google.colab import drive\n",
        "drive.mount('/content/drive')\n",
        "\n",
        "import os\n",
        "os.chdir('/content/drive/My Drive/data science/stat303-3')"
      ],
      "metadata": {
        "colab": {
          "base_uri": "https://localhost:8080/"
        },
        "id": "7OemQegsnhRu",
        "outputId": "4af7b9d4-cbac-4e8c-f21a-9d094687c664"
      },
      "id": "7OemQegsnhRu",
      "execution_count": null,
      "outputs": [
        {
          "output_type": "stream",
          "name": "stdout",
          "text": [
            "Mounted at /content/drive\n"
          ]
        }
      ]
    },
    {
      "cell_type": "markdown",
      "id": "6fa59f87-7c55-4db1-b222-16ea7c27ae01",
      "metadata": {
        "id": "6fa59f87-7c55-4db1-b222-16ea7c27ae01"
      },
      "source": [
        "### Libraries"
      ]
    },
    {
      "cell_type": "code",
      "execution_count": 11,
      "id": "a0d8bb67-93fa-46e1-a896-3ee66577b3f5",
      "metadata": {
        "id": "a0d8bb67-93fa-46e1-a896-3ee66577b3f5"
      },
      "outputs": [],
      "source": [
        "import pandas as pd\n",
        "import numpy as np\n",
        "from sklearn.preprocessing import StandardScaler\n",
        "from sklearn.metrics import accuracy_score\n",
        "\n",
        "from sklearn.linear_model import Lasso, LinearRegression\n",
        "from sklearn.neighbors import KNeighborsRegressor\n",
        "from sklearn.tree import DecisionTreeRegressor, DecisionTreeClassifier\n",
        "from sklearn.ensemble import AdaBoostRegressor, RandomForestRegressor, VotingRegressor, StackingRegressor, BaggingRegressor\n",
        "from sklearn.model_selection import train_test_split, GridSearchCV, KFold, RepeatedKFold, RandomizedSearchCV\n",
        "from xgboost import XGBRegressor\n",
        "# uncomment next line if needed\n",
        "#!pip install catboost\n",
        "from catboost import CatBoostRegressor\n",
        "from lightgbm import LGBMRegressor"
      ]
    },
    {
      "cell_type": "markdown",
      "id": "ffcb441c-6811-48ef-b3bb-4c9b0b85962b",
      "metadata": {
        "id": "ffcb441c-6811-48ef-b3bb-4c9b0b85962b"
      },
      "source": [
        "### Data and Preprocessing"
      ]
    },
    {
      "cell_type": "code",
      "source": [
        "# Reading data\n",
        "train = pd.read_csv('train_regression.csv')\n",
        "\n",
        "# Clean price column and remove extreme outliers with price>10000\n",
        "train.price = train.price.str.replace('$','').str.replace(',','').astype(float)\n",
        "train = train.loc[train.price < 10000,:]\n",
        "\n",
        "\n",
        "# Modifying the neighborhoods_cleansed column to only reflect if the neighborhood is in the top 3 most fancy\n",
        "train.neighbourhood_cleansed.value_counts()[0:3]\n",
        "fancy_neighborhoods = ['Near North Side','West Town','Lake View']\n",
        "train.neighbourhood_cleansed = train.neighbourhood_cleansed.apply(\n",
        "    lambda x: 1 if x in fancy_neighborhoods else 0)\n",
        "\n",
        "# Since there are many property types, modifying the column so that only types with over 100 observations are kept, otherwise set to 'Other'\n",
        "train.property_type.value_counts()[0:7]\n",
        "top_property_types = ['Entire rental unit','Entire condo','Private room in rental unit','Entire home',\n",
        "                     'Private room in home','Private room in home','Entire serviced apartment','Room in hotel']\n",
        "train.property_type = train.property_type.apply(lambda x: x if x in top_property_types else 'Other')\n",
        "\n",
        "# host_location data prep\n",
        "train['host_location'].fillna('Other', inplace=True)\n",
        "top_locations = train['host_location'].value_counts().index[:3]\n",
        "train.loc[~train['host_location'].isin(top_locations), 'host_location'] = 'Other'\n",
        "\n",
        "# host_response_time data prep\n",
        "mode_value = train['host_response_time'].mode()[0]\n",
        "train['host_response_time'].fillna(mode_value, inplace=True)\n",
        "\n",
        "# host_response_rate data prep\n",
        "train['host_response_rate'] = train['host_response_rate'].str.rstrip('%').astype(float)\n",
        "mean_value = train['host_response_rate'].mean()\n",
        "train['host_response_rate'].fillna(mean_value, inplace=True)\n",
        "\n",
        "# host_acceptance_rate data prep\n",
        "train['host_acceptance_rate'] = train['host_acceptance_rate'].str.rstrip('%').astype(float)\n",
        "mean_value = train['host_acceptance_rate'].mean()\n",
        "train['host_acceptance_rate'].fillna(mean_value, inplace=True)\n",
        "\n",
        "# host_is_superhost data prep\n",
        "train['host_is_superhost'] = train['host_is_superhost'].astype(str)\n",
        "train['host_is_superhost'] = train['host_is_superhost'].replace({'t': 1, 'f': 0})\n",
        "mode_value = train['host_is_superhost'].mode()[0]\n",
        "train['host_is_superhost'].fillna(mode_value, inplace=True)\n",
        "\n",
        "# host_neighbourhood\n",
        "train.host_neighbourhood.value_counts()[0:3]\n",
        "top_host_neighbourhoods = ['Cambridge','River North','Logan Square']\n",
        "train.host_neighbourhood = train.host_neighbourhood.apply(\n",
        "    lambda x: 1 if x in top_host_neighbourhoods else 0)\n",
        "train['host_neighbourhood'].fillna('Other', inplace=True)\n",
        "\n",
        "# host_has_profile_pic data prep\n",
        "train['host_has_profile_pic'] = train['host_has_profile_pic'].astype(str)\n",
        "train['host_has_profile_pic'] = train['host_has_profile_pic'].replace({'t': 1, 'f': 0})\n",
        "\n",
        "# host_identity_verified data prep\n",
        "train['host_identity_verified'] = train['host_identity_verified'].astype(str)\n",
        "train['host_identity_verified'] = train['host_identity_verified'].replace({'t': 1, 'f': 0})\n",
        "\n",
        "# bathrooms_text\n",
        "top_bathroom_types = train['bathrooms_text'].value_counts().index[:5]\n",
        "train['bathrooms_text'] = train['bathrooms_text'].apply(lambda x: x if x in top_bathroom_types else 'Other')\n",
        "\n",
        "# has_availability data prep\n",
        "train['has_availability'] = train['has_availability'].astype(str)\n",
        "train['has_availability'] = train['has_availability'].replace({'t': 1, 'f': 0})\n",
        "\n",
        "# Imputing missing numeric values using median\n",
        "train = train.fillna(train.median(numeric_only=True))\n",
        "# Imputing missing categorical values using ffill and then bfill (in case the first value was null)\n",
        "train = train.fillna(method = 'ffill')\n",
        "train = train.fillna(method = 'bfill')\n",
        "# Need to clean feature names so that non-JSON chars don't appear in the dummies and interfere with LightGBM in submission 13\n",
        "# SAME MODIFICATIONS FOR TEST DATA (except for those involving price since it's not present in the test data)\n",
        "\n",
        "test = pd.read_csv('test_regression.csv')\n",
        "\n",
        "# Neighborhood cleaning\n",
        "test.neighbourhood_cleansed = test.neighbourhood_cleansed.apply(\n",
        "    lambda x: 1 if x in fancy_neighborhoods else 0)\n",
        "\n",
        "# Property type cleaning\n",
        "test.property_type = test.property_type.apply(lambda x: x if x in top_property_types else 'Other')\n",
        "\n",
        "# host_location data prep\n",
        "test['host_location'].fillna('Other', inplace=True)\n",
        "top_locations = test['host_location'].value_counts().index[:3]\n",
        "test.loc[~test['host_location'].isin(top_locations), 'host_location'] = 'Other'\n",
        "\n",
        "# host_response_time data prep\n",
        "mode_value = test['host_response_time'].mode()[0]\n",
        "test['host_response_time'].fillna(mode_value, inplace=True)\n",
        "\n",
        "# host_response_rate data prep\n",
        "test['host_response_rate'] = test['host_response_rate'].str.rstrip('%').astype(float)\n",
        "mean_value = test['host_response_rate'].mean()\n",
        "test['host_response_rate'].fillna(mean_value, inplace=True)\n",
        "\n",
        "# host_acceptance_rate data prep\n",
        "test['host_acceptance_rate'] = test['host_acceptance_rate'].str.rstrip('%').astype(float)\n",
        "mean_value = test['host_acceptance_rate'].mean()\n",
        "test['host_acceptance_rate'].fillna(mean_value, inplace=True)\n",
        "\n",
        "# host_is_superhost data prep\n",
        "test['host_is_superhost'] = test['host_is_superhost'].astype(str)\n",
        "test['host_is_superhost'] = test['host_is_superhost'].replace({'t': 1, 'f': 0})\n",
        "mode_value = test['host_is_superhost'].mode()[0]\n",
        "test['host_is_superhost'].fillna(mode_value, inplace=True)\n",
        "\n",
        "# host_neighbourhood\n",
        "test.host_neighbourhood.value_counts()[0:3]\n",
        "top_host_neighbourhoods = ['Cambridge','River North','Logan Square']\n",
        "test.host_neighbourhood = test.host_neighbourhood.apply(\n",
        "    lambda x: 1 if x in top_host_neighbourhoods else 0)\n",
        "test['host_neighbourhood'].fillna('Other', inplace=True)\n",
        "\n",
        "# host_has_profile_pic data prep\n",
        "test['host_has_profile_pic'] = test['host_has_profile_pic'].astype(str)\n",
        "test['host_has_profile_pic'] = test['host_has_profile_pic'].replace({'t': 1, 'f': 0})\n",
        "\n",
        "# host_identity_verified data prep\n",
        "test['host_identity_verified'] = test['host_identity_verified'].astype(str)\n",
        "test['host_identity_verified'] = test['host_identity_verified'].replace({'t': 1, 'f': 0})\n",
        "\n",
        "# bathrooms_text\n",
        "top_bathroom_types = test['bathrooms_text'].value_counts().index[:5]\n",
        "test['bathrooms_text'] = test['bathrooms_text'].apply(lambda x: x if x in top_bathroom_types else 'Other')\n",
        "\n",
        "# has_availability data prep\n",
        "test['has_availability'] = test['has_availability'].astype(str)\n",
        "test['has_availability'] = test['has_availability'].replace({'t': 1, 'f': 0})\n",
        "\n",
        "# Imputing\n",
        "test = test.fillna(test.median(numeric_only=True))\n",
        "test = test.fillna(method = 'ffill')\n",
        "test = test.fillna(method = 'bfill')"
      ],
      "metadata": {
        "id": "3OB7BIvA0Icd",
        "colab": {
          "base_uri": "https://localhost:8080/"
        },
        "outputId": "a97c764a-45d3-4e44-b4fa-42e5e57bf088"
      },
      "id": "3OB7BIvA0Icd",
      "execution_count": 12,
      "outputs": [
        {
          "output_type": "stream",
          "name": "stderr",
          "text": [
            "<ipython-input-12-2f629a9db2f5>:72: FutureWarning: DataFrame.fillna with 'method' is deprecated and will raise in a future version. Use obj.ffill() or obj.bfill() instead.\n",
            "  train = train.fillna(method = 'ffill')\n",
            "<ipython-input-12-2f629a9db2f5>:73: FutureWarning: DataFrame.fillna with 'method' is deprecated and will raise in a future version. Use obj.ffill() or obj.bfill() instead.\n",
            "  train = train.fillna(method = 'bfill')\n",
            "<ipython-input-12-2f629a9db2f5>:136: FutureWarning: DataFrame.fillna with 'method' is deprecated and will raise in a future version. Use obj.ffill() or obj.bfill() instead.\n",
            "  test = test.fillna(method = 'ffill')\n",
            "<ipython-input-12-2f629a9db2f5>:137: FutureWarning: DataFrame.fillna with 'method' is deprecated and will raise in a future version. Use obj.ffill() or obj.bfill() instead.\n",
            "  test = test.fillna(method = 'bfill')\n"
          ]
        }
      ]
    },
    {
      "cell_type": "markdown",
      "id": "9aa0a3a4-93ba-4813-b61a-dd647b2c063c",
      "metadata": {
        "id": "9aa0a3a4-93ba-4813-b61a-dd647b2c063c"
      },
      "source": [
        "### Predictor Selection"
      ]
    },
    {
      "cell_type": "code",
      "source": [
        "bad_predictors = ['host_neighbourhood',\n",
        " 'host_has_profile_pic',\n",
        " 'host_identity_verified',\n",
        " 'maximum_maximum_nights',\n",
        " 'maximum_nights_avg_ntm',\n",
        " 'has_availability',\n",
        " 'review_scores_checkin',\n",
        " 'review_scores_communication',\n",
        " 'calculated_host_listings_count_shared_rooms',\n",
        " 'host_location_Chicago_IL',\n",
        " 'host_location_New_York_NY',\n",
        " 'host_location_Other',\n",
        " 'host_response_time_a_few_days_or_more',\n",
        " 'host_response_time_within_a_few_hours',\n",
        " 'host_response_time_within_an_hour',\n",
        " 'host_is_superhost_0',\n",
        " 'host_is_superhost_1',\n",
        " 'host_is_superhost_nan',\n",
        " 'host_verifications_email_phone_work_email',\n",
        " 'host_verifications_email_phone',\n",
        " 'host_verifications_email',\n",
        " 'host_verifications_phone_work_email',\n",
        " 'host_verifications_phone',\n",
        " 'property_type_Entire_condo',\n",
        " 'property_type_Entire_home',\n",
        " 'property_type_Entire_rental_unit',\n",
        " 'property_type_Entire_serviced_apartment',\n",
        " 'property_type_Other',\n",
        " 'property_type_Private_room_in_home',\n",
        " 'property_type_Private_room_in_rental_unit',\n",
        " 'property_type_Room_in_hotel',\n",
        " 'room_type_Entire_home/apt',\n",
        " 'room_type_Hotel_room',\n",
        " 'room_type_Private_room',\n",
        " 'room_type_Shared_room',\n",
        " 'bathrooms_text_1_bath',\n",
        " 'bathrooms_text_1_private_bath',\n",
        " 'bathrooms_text_1_shared_bath',\n",
        " 'bathrooms_text_1.5_baths',\n",
        " 'bathrooms_text_2_baths',\n",
        " 'instant_bookable_f',\n",
        " 'instant_bookable_t']\n",
        "\n",
        "def clean_feature_name(name):\n",
        "    translation_table = str.maketrans({\n",
        "        \",\": \"\",\n",
        "        \"[\": \"\",\n",
        "        \"]\": \"\",\n",
        "        \"'\": \"\",\n",
        "        '\"': \"\",\n",
        "        \" \": \"_\"\n",
        "    })\n",
        "    cleaned_name = name.translate(translation_table)\n",
        "    return cleaned_name\n",
        "\n",
        "# ** RUN ONLY ONCE **\n",
        "\n",
        "ids = test.id\n",
        "train = train.drop(columns=['id', 'host_id', 'host_since', 'first_review', 'last_review'])\n",
        "test = test.drop(columns=['id', 'host_id', 'host_since', 'first_review', 'last_review'])\n",
        "\n",
        "x_train = train.drop(columns='price')\n",
        "y_train = train.price\n",
        "\n",
        "x_test = test\n",
        "\n",
        "\n",
        "x_train = pd.get_dummies(x_train)\n",
        "x_test = pd.get_dummies(x_test)\n",
        "\n",
        "x_train.columns = [clean_feature_name(col) for col in x_train.columns]\n",
        "x_test.columns = [clean_feature_name(col) for col in x_test.columns]\n",
        "\n",
        "x_train = x_train.drop(columns=bad_predictors)\n",
        "x_test = x_test.drop(columns=bad_predictors)\n",
        "\n",
        "# Clean all feature names in the DataFrame\n",
        "x_train.columns = [clean_feature_name(col) for col in x_train.columns]\n",
        "x_test.columns = [clean_feature_name(col) for col in x_test.columns]"
      ],
      "metadata": {
        "id": "oC8CsInMnAQ7"
      },
      "id": "oC8CsInMnAQ7",
      "execution_count": 13,
      "outputs": []
    },
    {
      "cell_type": "code",
      "source": [
        "# lasso\n",
        "scaler = StandardScaler()\n",
        "x_train_scaled = scaler.fit_transform(x_train)\n",
        "x_test_scaled = scaler.transform(x_test)\n",
        "\n",
        "# Define and fit the Lasso model\n",
        "lasso = Lasso(alpha=0.1)  # Adjust alpha for regularization strength\n",
        "lasso.fit(x_train_scaled, y_train)\n",
        "\n",
        "# Get the coefficients\n",
        "lasso_coef = lasso.coef_\n",
        "\n",
        "# Print the selected predictors (non-zero coefficients)\n",
        "selected_predictors = np.where(lasso_coef != 0)[0]\n",
        "\n",
        "x_train = x_train.iloc[:,selected_predictors]\n",
        "x_test = x_test.iloc[:,selected_predictors]\n",
        "y_train = train[['price']]\n",
        "\n",
        "x_train = pd.get_dummies(x_train, drop_first=True)\n",
        "x_test = pd.get_dummies(x_test, drop_first=True)\n",
        "\n",
        "# step 5: final processing steps\n",
        "missing_columns = [col for col in x_train.columns if col not in x_test.columns]\n",
        "missing_columns_df = pd.DataFrame(0, index=x_test.index, columns=missing_columns)\n",
        "x_test = pd.concat([x_test, missing_columns_df], axis=1)\n",
        "\n",
        "# Reordering x_test columns to match x_train\n",
        "x_test = x_test[x_train.columns]\n",
        "\n",
        "x_train.columns = x_train.columns.str.replace(' ', '_')\n",
        "x_test.columns = x_test.columns.str.replace(' ', '_')"
      ],
      "metadata": {
        "id": "dPVulWrTyim6"
      },
      "id": "dPVulWrTyim6",
      "execution_count": 14,
      "outputs": []
    },
    {
      "cell_type": "markdown",
      "id": "69d15423-033a-469f-a3a4-2bc454a27cc1",
      "metadata": {
        "id": "69d15423-033a-469f-a3a4-2bc454a27cc1"
      },
      "source": [
        "\n",
        "### Model Tuning and Training"
      ]
    },
    {
      "cell_type": "code",
      "source": [
        "# ensemble of four boosting models, each already individually tuned\n",
        "# didn't tune them as an ensemble because it would take too long to run and it would probably have minimal improvement\n",
        "# fitting this model should take ~ 2 minutes\n",
        "\n",
        "bm1 = XGBRegressor(random_state = 12,\n",
        "                   objective = 'reg:squarederror',\n",
        "                   colsample_bytree = 0.5,\n",
        "                   gamma = 0.1,\n",
        "                   learning_rate = 0.01,\n",
        "                   max_depth = 8,\n",
        "                   n_estimators = 1000,\n",
        "                   reg_lambda = 1,\n",
        "                   subsample = 0.75)\n",
        "\n",
        "bm2 = CatBoostRegressor(random_state = 11,\n",
        "                       n_estimators = 1100,\n",
        "                       max_depth = 8,\n",
        "                       learning_rate = .1,\n",
        "                       subsample = .5,\n",
        "                       reg_lambda = .1,\n",
        "                       verbose=False\n",
        "                       )\n",
        "bm3 = LGBMRegressor(random_state = 1,\n",
        "                    num_threads = 1,\n",
        "                    n_estimators = 700,\n",
        "                    max_depth = 6,\n",
        "                    learning_rate = .01,\n",
        "                    subsample = .5,\n",
        "                    reg_lambda = .1,\n",
        "                    verbose=-1)\n",
        "\n",
        "bm4 = AdaBoostRegressor(n_estimators=115, learning_rate=0.001, random_state=12)\n",
        "\n",
        "model = StackingRegressor(estimators = [('xgb',bm1),('catboost',bm2),('lgbm',bm3),('ada',bm4)], final_estimator = LinearRegression())\n",
        "\n",
        "model.fit(x_train, y_train)"
      ],
      "metadata": {
        "colab": {
          "base_uri": "https://localhost:8080/",
          "height": 214
        },
        "id": "MewEHRaTtHcx",
        "outputId": "c7addc5a-1a6f-4f7b-e61d-7379bfafc613"
      },
      "id": "MewEHRaTtHcx",
      "execution_count": 16,
      "outputs": [
        {
          "output_type": "stream",
          "name": "stderr",
          "text": [
            "/usr/local/lib/python3.10/dist-packages/sklearn/ensemble/_stacking.py:955: DataConversionWarning: A column-vector y was passed when a 1d array was expected. Please change the shape of y to (n_samples, ), for example using ravel().\n",
            "  y = column_or_1d(y, warn=True)\n"
          ]
        },
        {
          "output_type": "execute_result",
          "data": {
            "text/plain": [
              "StackingRegressor(estimators=[('xgb',\n",
              "                               XGBRegressor(base_score=None, booster=None,\n",
              "                                            callbacks=None,\n",
              "                                            colsample_bylevel=None,\n",
              "                                            colsample_bynode=None,\n",
              "                                            colsample_bytree=0.5, device=None,\n",
              "                                            early_stopping_rounds=None,\n",
              "                                            enable_categorical=False,\n",
              "                                            eval_metric=None,\n",
              "                                            feature_types=None, gamma=0.1,\n",
              "                                            grow_policy=None,\n",
              "                                            importance_type=None,\n",
              "                                            interaction_constraints=None,\n",
              "                                            learning_rate...\n",
              "                                            num_parallel_tree=None,\n",
              "                                            random_state=12, ...)),\n",
              "                              ('catboost',\n",
              "                               <catboost.core.CatBoostRegressor object at 0x7a23057f16c0>),\n",
              "                              ('lgbm',\n",
              "                               LGBMRegressor(learning_rate=0.01, max_depth=6,\n",
              "                                             n_estimators=700, num_threads=1,\n",
              "                                             random_state=1, reg_lambda=0.1,\n",
              "                                             subsample=0.5, verbose=-1)),\n",
              "                              ('ada',\n",
              "                               AdaBoostRegressor(learning_rate=0.001,\n",
              "                                                 n_estimators=115,\n",
              "                                                 random_state=12))],\n",
              "                  final_estimator=LinearRegression())"
            ],
            "text/html": [
              "<style>#sk-container-id-3 {color: black;}#sk-container-id-3 pre{padding: 0;}#sk-container-id-3 div.sk-toggleable {background-color: white;}#sk-container-id-3 label.sk-toggleable__label {cursor: pointer;display: block;width: 100%;margin-bottom: 0;padding: 0.3em;box-sizing: border-box;text-align: center;}#sk-container-id-3 label.sk-toggleable__label-arrow:before {content: \"▸\";float: left;margin-right: 0.25em;color: #696969;}#sk-container-id-3 label.sk-toggleable__label-arrow:hover:before {color: black;}#sk-container-id-3 div.sk-estimator:hover label.sk-toggleable__label-arrow:before {color: black;}#sk-container-id-3 div.sk-toggleable__content {max-height: 0;max-width: 0;overflow: hidden;text-align: left;background-color: #f0f8ff;}#sk-container-id-3 div.sk-toggleable__content pre {margin: 0.2em;color: black;border-radius: 0.25em;background-color: #f0f8ff;}#sk-container-id-3 input.sk-toggleable__control:checked~div.sk-toggleable__content {max-height: 200px;max-width: 100%;overflow: auto;}#sk-container-id-3 input.sk-toggleable__control:checked~label.sk-toggleable__label-arrow:before {content: \"▾\";}#sk-container-id-3 div.sk-estimator input.sk-toggleable__control:checked~label.sk-toggleable__label {background-color: #d4ebff;}#sk-container-id-3 div.sk-label input.sk-toggleable__control:checked~label.sk-toggleable__label {background-color: #d4ebff;}#sk-container-id-3 input.sk-hidden--visually {border: 0;clip: rect(1px 1px 1px 1px);clip: rect(1px, 1px, 1px, 1px);height: 1px;margin: -1px;overflow: hidden;padding: 0;position: absolute;width: 1px;}#sk-container-id-3 div.sk-estimator {font-family: monospace;background-color: #f0f8ff;border: 1px dotted black;border-radius: 0.25em;box-sizing: border-box;margin-bottom: 0.5em;}#sk-container-id-3 div.sk-estimator:hover {background-color: #d4ebff;}#sk-container-id-3 div.sk-parallel-item::after {content: \"\";width: 100%;border-bottom: 1px solid gray;flex-grow: 1;}#sk-container-id-3 div.sk-label:hover label.sk-toggleable__label {background-color: #d4ebff;}#sk-container-id-3 div.sk-serial::before {content: \"\";position: absolute;border-left: 1px solid gray;box-sizing: border-box;top: 0;bottom: 0;left: 50%;z-index: 0;}#sk-container-id-3 div.sk-serial {display: flex;flex-direction: column;align-items: center;background-color: white;padding-right: 0.2em;padding-left: 0.2em;position: relative;}#sk-container-id-3 div.sk-item {position: relative;z-index: 1;}#sk-container-id-3 div.sk-parallel {display: flex;align-items: stretch;justify-content: center;background-color: white;position: relative;}#sk-container-id-3 div.sk-item::before, #sk-container-id-3 div.sk-parallel-item::before {content: \"\";position: absolute;border-left: 1px solid gray;box-sizing: border-box;top: 0;bottom: 0;left: 50%;z-index: -1;}#sk-container-id-3 div.sk-parallel-item {display: flex;flex-direction: column;z-index: 1;position: relative;background-color: white;}#sk-container-id-3 div.sk-parallel-item:first-child::after {align-self: flex-end;width: 50%;}#sk-container-id-3 div.sk-parallel-item:last-child::after {align-self: flex-start;width: 50%;}#sk-container-id-3 div.sk-parallel-item:only-child::after {width: 0;}#sk-container-id-3 div.sk-dashed-wrapped {border: 1px dashed gray;margin: 0 0.4em 0.5em 0.4em;box-sizing: border-box;padding-bottom: 0.4em;background-color: white;}#sk-container-id-3 div.sk-label label {font-family: monospace;font-weight: bold;display: inline-block;line-height: 1.2em;}#sk-container-id-3 div.sk-label-container {text-align: center;}#sk-container-id-3 div.sk-container {/* jupyter's `normalize.less` sets `[hidden] { display: none; }` but bootstrap.min.css set `[hidden] { display: none !important; }` so we also need the `!important` here to be able to override the default hidden behavior on the sphinx rendered scikit-learn.org. See: https://github.com/scikit-learn/scikit-learn/issues/21755 */display: inline-block !important;position: relative;}#sk-container-id-3 div.sk-text-repr-fallback {display: none;}</style><div id=\"sk-container-id-3\" class=\"sk-top-container\"><div class=\"sk-text-repr-fallback\"><pre>StackingRegressor(estimators=[(&#x27;xgb&#x27;,\n",
              "                               XGBRegressor(base_score=None, booster=None,\n",
              "                                            callbacks=None,\n",
              "                                            colsample_bylevel=None,\n",
              "                                            colsample_bynode=None,\n",
              "                                            colsample_bytree=0.5, device=None,\n",
              "                                            early_stopping_rounds=None,\n",
              "                                            enable_categorical=False,\n",
              "                                            eval_metric=None,\n",
              "                                            feature_types=None, gamma=0.1,\n",
              "                                            grow_policy=None,\n",
              "                                            importance_type=None,\n",
              "                                            interaction_constraints=None,\n",
              "                                            learning_rate...\n",
              "                                            num_parallel_tree=None,\n",
              "                                            random_state=12, ...)),\n",
              "                              (&#x27;catboost&#x27;,\n",
              "                               &lt;catboost.core.CatBoostRegressor object at 0x7a23057f16c0&gt;),\n",
              "                              (&#x27;lgbm&#x27;,\n",
              "                               LGBMRegressor(learning_rate=0.01, max_depth=6,\n",
              "                                             n_estimators=700, num_threads=1,\n",
              "                                             random_state=1, reg_lambda=0.1,\n",
              "                                             subsample=0.5, verbose=-1)),\n",
              "                              (&#x27;ada&#x27;,\n",
              "                               AdaBoostRegressor(learning_rate=0.001,\n",
              "                                                 n_estimators=115,\n",
              "                                                 random_state=12))],\n",
              "                  final_estimator=LinearRegression())</pre><b>In a Jupyter environment, please rerun this cell to show the HTML representation or trust the notebook. <br />On GitHub, the HTML representation is unable to render, please try loading this page with nbviewer.org.</b></div><div class=\"sk-container\" hidden><div class=\"sk-item sk-dashed-wrapped\"><div class=\"sk-label-container\"><div class=\"sk-label sk-toggleable\"><input class=\"sk-toggleable__control sk-hidden--visually\" id=\"sk-estimator-id-13\" type=\"checkbox\" ><label for=\"sk-estimator-id-13\" class=\"sk-toggleable__label sk-toggleable__label-arrow\">StackingRegressor</label><div class=\"sk-toggleable__content\"><pre>StackingRegressor(estimators=[(&#x27;xgb&#x27;,\n",
              "                               XGBRegressor(base_score=None, booster=None,\n",
              "                                            callbacks=None,\n",
              "                                            colsample_bylevel=None,\n",
              "                                            colsample_bynode=None,\n",
              "                                            colsample_bytree=0.5, device=None,\n",
              "                                            early_stopping_rounds=None,\n",
              "                                            enable_categorical=False,\n",
              "                                            eval_metric=None,\n",
              "                                            feature_types=None, gamma=0.1,\n",
              "                                            grow_policy=None,\n",
              "                                            importance_type=None,\n",
              "                                            interaction_constraints=None,\n",
              "                                            learning_rate...\n",
              "                                            num_parallel_tree=None,\n",
              "                                            random_state=12, ...)),\n",
              "                              (&#x27;catboost&#x27;,\n",
              "                               &lt;catboost.core.CatBoostRegressor object at 0x7a23057f16c0&gt;),\n",
              "                              (&#x27;lgbm&#x27;,\n",
              "                               LGBMRegressor(learning_rate=0.01, max_depth=6,\n",
              "                                             n_estimators=700, num_threads=1,\n",
              "                                             random_state=1, reg_lambda=0.1,\n",
              "                                             subsample=0.5, verbose=-1)),\n",
              "                              (&#x27;ada&#x27;,\n",
              "                               AdaBoostRegressor(learning_rate=0.001,\n",
              "                                                 n_estimators=115,\n",
              "                                                 random_state=12))],\n",
              "                  final_estimator=LinearRegression())</pre></div></div></div><div class=\"sk-serial\"><div class=\"sk-item\"><div class=\"sk-parallel\"><div class=\"sk-parallel-item\"><div class=\"sk-item\"><div class=\"sk-label-container\"><div class=\"sk-label sk-toggleable\"><label>xgb</label></div></div><div class=\"sk-serial\"><div class=\"sk-item\"><div class=\"sk-estimator sk-toggleable\"><input class=\"sk-toggleable__control sk-hidden--visually\" id=\"sk-estimator-id-14\" type=\"checkbox\" ><label for=\"sk-estimator-id-14\" class=\"sk-toggleable__label sk-toggleable__label-arrow\">XGBRegressor</label><div class=\"sk-toggleable__content\"><pre>XGBRegressor(base_score=None, booster=None, callbacks=None,\n",
              "             colsample_bylevel=None, colsample_bynode=None,\n",
              "             colsample_bytree=0.5, device=None, early_stopping_rounds=None,\n",
              "             enable_categorical=False, eval_metric=None, feature_types=None,\n",
              "             gamma=0.1, grow_policy=None, importance_type=None,\n",
              "             interaction_constraints=None, learning_rate=0.01, max_bin=None,\n",
              "             max_cat_threshold=None, max_cat_to_onehot=None,\n",
              "             max_delta_step=None, max_depth=8, max_leaves=None,\n",
              "             min_child_weight=None, missing=nan, monotone_constraints=None,\n",
              "             multi_strategy=None, n_estimators=1000, n_jobs=None,\n",
              "             num_parallel_tree=None, random_state=12, ...)</pre></div></div></div></div></div></div><div class=\"sk-parallel-item\"><div class=\"sk-item\"><div class=\"sk-label-container\"><div class=\"sk-label sk-toggleable\"><label>catboost</label></div></div><div class=\"sk-serial\"><div class=\"sk-item\"><div class=\"sk-estimator sk-toggleable\"><input class=\"sk-toggleable__control sk-hidden--visually\" id=\"sk-estimator-id-15\" type=\"checkbox\" ><label for=\"sk-estimator-id-15\" class=\"sk-toggleable__label sk-toggleable__label-arrow\">CatBoostRegressor</label><div class=\"sk-toggleable__content\"><pre>&lt;catboost.core.CatBoostRegressor object at 0x7a23057f16c0&gt;</pre></div></div></div></div></div></div><div class=\"sk-parallel-item\"><div class=\"sk-item\"><div class=\"sk-label-container\"><div class=\"sk-label sk-toggleable\"><label>lgbm</label></div></div><div class=\"sk-serial\"><div class=\"sk-item\"><div class=\"sk-estimator sk-toggleable\"><input class=\"sk-toggleable__control sk-hidden--visually\" id=\"sk-estimator-id-16\" type=\"checkbox\" ><label for=\"sk-estimator-id-16\" class=\"sk-toggleable__label sk-toggleable__label-arrow\">LGBMRegressor</label><div class=\"sk-toggleable__content\"><pre>LGBMRegressor(learning_rate=0.01, max_depth=6, n_estimators=700, num_threads=1,\n",
              "              random_state=1, reg_lambda=0.1, subsample=0.5, verbose=-1)</pre></div></div></div></div></div></div><div class=\"sk-parallel-item\"><div class=\"sk-item\"><div class=\"sk-label-container\"><div class=\"sk-label sk-toggleable\"><label>ada</label></div></div><div class=\"sk-serial\"><div class=\"sk-item\"><div class=\"sk-estimator sk-toggleable\"><input class=\"sk-toggleable__control sk-hidden--visually\" id=\"sk-estimator-id-17\" type=\"checkbox\" ><label for=\"sk-estimator-id-17\" class=\"sk-toggleable__label sk-toggleable__label-arrow\">AdaBoostRegressor</label><div class=\"sk-toggleable__content\"><pre>AdaBoostRegressor(learning_rate=0.001, n_estimators=115, random_state=12)</pre></div></div></div></div></div></div></div></div><div class=\"sk-item\"><div class=\"sk-parallel\"><div class=\"sk-parallel-item\"><div class=\"sk-item\"><div class=\"sk-label-container\"><div class=\"sk-label sk-toggleable\"><label>final_estimator</label></div></div><div class=\"sk-serial\"><div class=\"sk-item\"><div class=\"sk-estimator sk-toggleable\"><input class=\"sk-toggleable__control sk-hidden--visually\" id=\"sk-estimator-id-18\" type=\"checkbox\" ><label for=\"sk-estimator-id-18\" class=\"sk-toggleable__label sk-toggleable__label-arrow\">LinearRegression</label><div class=\"sk-toggleable__content\"><pre>LinearRegression()</pre></div></div></div></div></div></div></div></div></div></div></div></div>"
            ]
          },
          "metadata": {},
          "execution_count": 16
        }
      ]
    },
    {
      "cell_type": "markdown",
      "id": "e4fca491-c354-4eec-9755-1d17a9daf9c0",
      "metadata": {
        "id": "e4fca491-c354-4eec-9755-1d17a9daf9c0"
      },
      "source": [
        "### Prediction"
      ]
    },
    {
      "cell_type": "code",
      "source": [
        "predictions = model.predict(x_test)\n",
        "\n",
        "# create csv file of predicted classifications\n",
        "output = pd.DataFrame({'id': ids,'predicted':predictions})\n",
        "output.to_csv('EnsembleRegression.csv', index=False)"
      ],
      "metadata": {
        "id": "sg56d0vDomEg"
      },
      "id": "sg56d0vDomEg",
      "execution_count": 17,
      "outputs": []
    },
    {
      "cell_type": "code",
      "source": [
        "# testing to get a sense of model performance\n",
        "predictions = model.predict(x_train)\n",
        "model_rmse = np.sqrt(np.mean((predictions - train.price)**2))\n",
        "print(model_rmse)\n",
        "\n"
      ],
      "metadata": {
        "colab": {
          "base_uri": "https://localhost:8080/"
        },
        "id": "1KAf9hT8SCTq",
        "outputId": "70bc8243-0b56-43b4-ea2c-1453c61f0f7d"
      },
      "id": "1KAf9hT8SCTq",
      "execution_count": 18,
      "outputs": [
        {
          "output_type": "stream",
          "name": "stdout",
          "text": [
            "18.809900282464298\n"
          ]
        }
      ]
    }
  ],
  "metadata": {
    "kernelspec": {
      "display_name": "Python 3 (ipykernel)",
      "language": "python",
      "name": "python3"
    },
    "language_info": {
      "codemirror_mode": {
        "name": "ipython",
        "version": 3
      },
      "file_extension": ".py",
      "mimetype": "text/x-python",
      "name": "python",
      "nbconvert_exporter": "python",
      "pygments_lexer": "ipython3",
      "version": "3.11.7"
    },
    "colab": {
      "provenance": [],
      "include_colab_link": true
    }
  },
  "nbformat": 4,
  "nbformat_minor": 5
}