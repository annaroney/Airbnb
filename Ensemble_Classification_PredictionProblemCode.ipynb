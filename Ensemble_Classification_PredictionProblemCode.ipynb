{
  "cells": [
    {
      "cell_type": "markdown",
      "metadata": {
        "id": "view-in-github",
        "colab_type": "text"
      },
      "source": [
        "<a href=\"https://colab.research.google.com/github/annaroney/Airbnb/blob/main/Ensemble_Classification_PredictionProblemCode.ipynb\" target=\"_parent\"><img src=\"https://colab.research.google.com/assets/colab-badge.svg\" alt=\"Open In Colab\"/></a>"
      ]
    },
    {
      "cell_type": "markdown",
      "id": "b55a2bf1-a991-4831-9e57-42f7aa304bd7",
      "metadata": {
        "id": "b55a2bf1-a991-4831-9e57-42f7aa304bd7"
      },
      "source": [
        "## Prediction Problem Code"
      ]
    },
    {
      "cell_type": "markdown",
      "id": "0484d5ee-0a3e-4f46-a781-bea66f36939f",
      "metadata": {
        "id": "0484d5ee-0a3e-4f46-a781-bea66f36939f"
      },
      "source": [
        "**Problem:** Classification"
      ]
    },
    {
      "cell_type": "markdown",
      "id": "a52e32b3-d20d-4008-89a0-49071ecf609e",
      "metadata": {
        "id": "a52e32b3-d20d-4008-89a0-49071ecf609e"
      },
      "source": [
        "**Model:** Ensemble"
      ]
    },
    {
      "cell_type": "markdown",
      "id": "eb1d232b-a629-4426-a0f4-4364a01e87a9",
      "metadata": {
        "id": "eb1d232b-a629-4426-a0f4-4364a01e87a9"
      },
      "source": [
        "**Accuracy on Kaggle:** .94"
      ]
    },
    {
      "cell_type": "code",
      "source": [
        "# run this cell if using google colab\n",
        "from google.colab import drive\n",
        "drive.mount('/content/drive')\n",
        "\n",
        "import os\n",
        "os.chdir('/content/drive/My Drive/data science/stat303-3')"
      ],
      "metadata": {
        "colab": {
          "base_uri": "https://localhost:8080/"
        },
        "id": "EvC-FISkTe2E",
        "outputId": "95d661f6-f417-45d5-ec9d-239f68fc3127"
      },
      "id": "EvC-FISkTe2E",
      "execution_count": null,
      "outputs": [
        {
          "output_type": "stream",
          "name": "stdout",
          "text": [
            "Mounted at /content/drive\n"
          ]
        }
      ]
    },
    {
      "cell_type": "markdown",
      "id": "6fa59f87-7c55-4db1-b222-16ea7c27ae01",
      "metadata": {
        "id": "6fa59f87-7c55-4db1-b222-16ea7c27ae01"
      },
      "source": [
        "### Libraries"
      ]
    },
    {
      "cell_type": "code",
      "execution_count": 18,
      "id": "a0d8bb67-93fa-46e1-a896-3ee66577b3f5",
      "metadata": {
        "id": "a0d8bb67-93fa-46e1-a896-3ee66577b3f5"
      },
      "outputs": [],
      "source": [
        "# Libraries here\n",
        "import pandas as pd\n",
        "import numpy as np\n",
        "from sklearn.preprocessing import StandardScaler\n",
        "from sklearn.metrics import accuracy_score\n",
        "\n",
        "from sklearn.linear_model import Lasso, LinearRegression, LogisticRegression\n",
        "from sklearn.neighbors import KNeighborsClassifier\n",
        "from sklearn.tree import DecisionTreeClassifier\n",
        "from sklearn.ensemble import AdaBoostClassifier, RandomForestClassifier, VotingClassifier, StackingClassifier, BaggingClassifier\n",
        "from sklearn.model_selection import train_test_split, GridSearchCV, KFold, StratifiedKFold, RepeatedKFold, RandomizedSearchCV\n",
        "from xgboost import XGBClassifier\n",
        "# uncomment next line if necessary\n",
        "#!pip install catboost\n",
        "from catboost import CatBoostClassifier\n",
        "from lightgbm import LGBMClassifier"
      ]
    },
    {
      "cell_type": "markdown",
      "id": "ffcb441c-6811-48ef-b3bb-4c9b0b85962b",
      "metadata": {
        "id": "ffcb441c-6811-48ef-b3bb-4c9b0b85962b"
      },
      "source": [
        "### Data and Preprocessing"
      ]
    },
    {
      "cell_type": "code",
      "source": [
        "# reading TRAINING DATA\n",
        "train = pd.read_csv('train_classification.csv')\n",
        "\n",
        "\n",
        "# Modifying the neighborhoods_cleansed column to only reflect if the neighborhood is in the top 3 most fancy\n",
        "train.neighbourhood_cleansed.value_counts()[0:3]\n",
        "fancy_neighborhoods = ['Near North Side','West Town','Lake View']\n",
        "train.neighbourhood_cleansed = train.neighbourhood_cleansed.apply(\n",
        "    lambda x: 1 if x in fancy_neighborhoods else 0)\n",
        "\n",
        "# Since there are many property types, modifying the column so that only types with over 100 observations are kept, otherwise set to 'Other'\n",
        "train.property_type.value_counts()[0:7]\n",
        "top_property_types = ['Entire rental unit','Entire condo','Private room in rental unit','Entire home',\n",
        "                     'Private room in home','Private room in home','Entire serviced apartment','Room in hotel']\n",
        "train.property_type = train.property_type.apply(lambda x: x if x in top_property_types else 'Other')\n",
        "\n",
        "# host_location data prep\n",
        "train['host_location'].fillna('Other', inplace=True)\n",
        "top_locations = train['host_location'].value_counts().index[:3]\n",
        "train.loc[~train['host_location'].isin(top_locations), 'host_location'] = 'Other'\n",
        "\n",
        "# host_response_time data prep\n",
        "mode_value = train['host_response_time'].mode()[0]\n",
        "train['host_response_time'].fillna(mode_value, inplace=True)\n",
        "\n",
        "# host_response_rate data prep\n",
        "train['host_response_rate'] = train['host_response_rate'].str.rstrip('%').astype(float)\n",
        "mean_value = train['host_response_rate'].mean()\n",
        "train['host_response_rate'].fillna(mean_value, inplace=True)\n",
        "\n",
        "# host_acceptance_rate data prep\n",
        "train['host_acceptance_rate'] = train['host_acceptance_rate'].str.rstrip('%').astype(float)\n",
        "mean_value = train['host_acceptance_rate'].mean()\n",
        "train['host_acceptance_rate'].fillna(mean_value, inplace=True)\n",
        "\n",
        "# host_is_superhost data prep\n",
        "train['host_is_superhost'] = train['host_is_superhost'].astype(str)\n",
        "train['host_is_superhost'] = train['host_is_superhost'].replace({'t': 1, 'f': 0})\n",
        "mode_value = train['host_is_superhost'].mode()[0]\n",
        "train['host_is_superhost'].fillna(mode_value, inplace=True)\n",
        "\n",
        "# host_neighbourhood\n",
        "train.host_neighbourhood.value_counts()[0:3]\n",
        "top_host_neighbourhoods = ['Cambridge','River North','Logan Square']\n",
        "train.host_neighbourhood = train.host_neighbourhood.apply(\n",
        "    lambda x: 1 if x in top_host_neighbourhoods else 0)\n",
        "train['host_neighbourhood'].fillna('Other', inplace=True)\n",
        "\n",
        "# host_has_profile_pic data prep\n",
        "train['host_has_profile_pic'] = train['host_has_profile_pic'].astype(str)\n",
        "train['host_has_profile_pic'] = train['host_has_profile_pic'].replace({'t': 1, 'f': 0})\n",
        "\n",
        "# host_identity_verified data prep\n",
        "train['host_identity_verified'] = train['host_identity_verified'].astype(str)\n",
        "train['host_identity_verified'] = train['host_identity_verified'].replace({'t': 1, 'f': 0})\n",
        "\n",
        "# bathrooms_text\n",
        "top_bathroom_types = train['bathrooms_text'].value_counts().index[:5]\n",
        "train['bathrooms_text'] = train['bathrooms_text'].apply(lambda x: x if x in top_bathroom_types else 'Other')\n",
        "\n",
        "# has_availability data prep\n",
        "train['has_availability'] = train['has_availability'].astype(str)\n",
        "train['has_availability'] = train['has_availability'].replace({'t': 1, 'f': 0})\n",
        "\n",
        "# Imputing missing numeric values using median\n",
        "train = train.fillna(train.median(numeric_only=True))\n",
        "# Imputing missing categorical values using ffill and then bfill (in case the first value was null)\n",
        "train = train.fillna(method = 'ffill')\n",
        "train = train.fillna(method = 'bfill')\n",
        "\n",
        "# SAME MODIFICATIONS FOR TEST DATA\n",
        "\n",
        "test = pd.read_csv('test_classification.csv')\n",
        "\n",
        "# Neighborhood cleaning\n",
        "test.neighbourhood_cleansed = test.neighbourhood_cleansed.apply(\n",
        "    lambda x: 1 if x in fancy_neighborhoods else 0)\n",
        "\n",
        "# Property type cleaning\n",
        "test.property_type = test.property_type.apply(lambda x: x if x in top_property_types else 'Other')\n",
        "\n",
        "# host_location data prep\n",
        "test['host_location'].fillna('Other', inplace=True)\n",
        "top_locations = test['host_location'].value_counts().index[:3]\n",
        "test.loc[~test['host_location'].isin(top_locations), 'host_location'] = 'Other'\n",
        "\n",
        "# host_response_time data prep\n",
        "mode_value = test['host_response_time'].mode()[0]\n",
        "test['host_response_time'].fillna(mode_value, inplace=True)\n",
        "\n",
        "# host_response_rate data prep\n",
        "test['host_response_rate'] = test['host_response_rate'].str.rstrip('%').astype(float)\n",
        "mean_value = test['host_response_rate'].mean()\n",
        "test['host_response_rate'].fillna(mean_value, inplace=True)\n",
        "\n",
        "# host_acceptance_rate data prep\n",
        "test['host_acceptance_rate'] = test['host_acceptance_rate'].str.rstrip('%').astype(float)\n",
        "mean_value = test['host_acceptance_rate'].mean()\n",
        "test['host_acceptance_rate'].fillna(mean_value, inplace=True)\n",
        "\n",
        "# host_neighbourhood\n",
        "test.host_neighbourhood.value_counts()[0:3]\n",
        "top_host_neighbourhoods = ['Cambridge','River North','Logan Square']\n",
        "test.host_neighbourhood = test.host_neighbourhood.apply(\n",
        "    lambda x: 1 if x in top_host_neighbourhoods else 0)\n",
        "test['host_neighbourhood'].fillna('Other', inplace=True)\n",
        "\n",
        "# host_has_profile_pic data prep\n",
        "test['host_has_profile_pic'] = test['host_has_profile_pic'].astype(str)\n",
        "test['host_has_profile_pic'] = test['host_has_profile_pic'].replace({'t': 1, 'f': 0})\n",
        "\n",
        "# host_identity_verified data prep\n",
        "test['host_identity_verified'] = test['host_identity_verified'].astype(str)\n",
        "test['host_identity_verified'] = test['host_identity_verified'].replace({'t': 1, 'f': 0})\n",
        "\n",
        "# bathrooms_text\n",
        "top_bathroom_types = test['bathrooms_text'].value_counts().index[:5]\n",
        "test['bathrooms_text'] = test['bathrooms_text'].apply(lambda x: x if x in top_bathroom_types else 'Other')\n",
        "\n",
        "# has_availability data prep\n",
        "test['has_availability'] = test['has_availability'].astype(str)\n",
        "test['has_availability'] = test['has_availability'].replace({'t': 1, 'f': 0})\n",
        "\n",
        "# Imputing\n",
        "test = test.fillna(test.median(numeric_only=True))\n",
        "test = test.fillna(method = 'ffill')\n",
        "test = test.fillna(method = 'bfill')"
      ],
      "metadata": {
        "id": "qgtHCZ0KNQb_",
        "colab": {
          "base_uri": "https://localhost:8080/"
        },
        "outputId": "817923e4-d8a3-4535-af7f-fbbcd7f79aba"
      },
      "id": "qgtHCZ0KNQb_",
      "execution_count": 19,
      "outputs": [
        {
          "output_type": "stream",
          "name": "stderr",
          "text": [
            "<ipython-input-19-582a51f5f8ac>:68: FutureWarning: DataFrame.fillna with 'method' is deprecated and will raise in a future version. Use obj.ffill() or obj.bfill() instead.\n",
            "  train = train.fillna(method = 'ffill')\n",
            "<ipython-input-19-582a51f5f8ac>:69: FutureWarning: DataFrame.fillna with 'method' is deprecated and will raise in a future version. Use obj.ffill() or obj.bfill() instead.\n",
            "  train = train.fillna(method = 'bfill')\n",
            "<ipython-input-19-582a51f5f8ac>:126: FutureWarning: DataFrame.fillna with 'method' is deprecated and will raise in a future version. Use obj.ffill() or obj.bfill() instead.\n",
            "  test = test.fillna(method = 'ffill')\n",
            "<ipython-input-19-582a51f5f8ac>:127: FutureWarning: DataFrame.fillna with 'method' is deprecated and will raise in a future version. Use obj.ffill() or obj.bfill() instead.\n",
            "  test = test.fillna(method = 'bfill')\n"
          ]
        }
      ]
    },
    {
      "cell_type": "markdown",
      "id": "9aa0a3a4-93ba-4813-b61a-dd647b2c063c",
      "metadata": {
        "id": "9aa0a3a4-93ba-4813-b61a-dd647b2c063c"
      },
      "source": [
        "### Predictor Selection"
      ]
    },
    {
      "cell_type": "code",
      "source": [
        "# ** RUN ONLY ONCE **\n",
        "\n",
        "ids = test.id\n",
        "train = train.drop(columns=['id', 'host_since', 'first_review', 'last_review'])\n",
        "test = test.drop(columns=['id', 'host_since', 'first_review', 'last_review'])\n",
        "\n",
        "x_train = train.drop(columns='host_is_superhost')\n",
        "y_train = train.host_is_superhost\n",
        "\n",
        "x_test = test\n",
        "\n",
        "x_train = pd.get_dummies(x_train)\n",
        "x_test = pd.get_dummies(x_test)\n",
        "\n",
        "def clean_feature_name(name):\n",
        "    translation_table = str.maketrans({\n",
        "        \",\": \"\",\n",
        "        \"[\": \"\",\n",
        "        \"]\": \"\",\n",
        "        \"'\": \"\",\n",
        "        '\"': \"\",\n",
        "        \" \": \"_\"\n",
        "    })\n",
        "    cleaned_name = name.translate(translation_table)\n",
        "    return cleaned_name\n",
        "\n",
        "# Clean all feature names in the DataFrame\n",
        "x_train.columns = [clean_feature_name(col) for col in x_train.columns]\n",
        "x_test.columns = [clean_feature_name(col) for col in x_test.columns]"
      ],
      "metadata": {
        "id": "l2_oDCj68xuL"
      },
      "id": "l2_oDCj68xuL",
      "execution_count": 20,
      "outputs": []
    },
    {
      "cell_type": "markdown",
      "id": "69d15423-033a-469f-a3a4-2bc454a27cc1",
      "metadata": {
        "id": "69d15423-033a-469f-a3a4-2bc454a27cc1"
      },
      "source": [
        "### Model Tuning and Training"
      ]
    },
    {
      "cell_type": "code",
      "source": [
        "# ensemble of six boosting models, each already individually tuned\n",
        "\n",
        "bm1 = KNeighborsClassifier(n_neighbors = 7, weights = 'distance')\n",
        "\n",
        "bm2 = BaggingClassifier(random_state = 12,\n",
        "                            n_estimators = 100,\n",
        "                            bootstrap = False,\n",
        "                            bootstrap_features = True,\n",
        "                            max_features = .5,\n",
        "                            max_samples = .9,\n",
        "                            )\n",
        "\n",
        "bm3 = RandomForestClassifier(random_state = 1,\n",
        "                            n_estimators = 100,\n",
        "                            bootstrap = True,\n",
        "                            max_features = .725,\n",
        "                            max_samples = .8\n",
        "                            )\n",
        "\n",
        "bm4 = LGBMClassifier(random_state=1, num_threads = 1, verbose=-1,\n",
        "                           learning_rate=0.1, max_depth=6, n_estimators=800,\n",
        "                           reg_lambda=0.1, subsample=0.5)\n",
        "\n",
        "bm5 = CatBoostClassifier(learning_rate=0.1, max_depth=6, n_estimators=2200, reg_lambda=0.1, subsample=0.75, random_state = 1, verbose=False)\n",
        "\n",
        "bm6 = XGBClassifier(random_state = 12,\n",
        "                    objective = 'binary:logistic',\n",
        "                    scale_pos_weight = 1,\n",
        "                    n_estimators = 95,\n",
        "                    max_depth = 8,\n",
        "                    subsample = .95,\n",
        "                    learning_rate = .1,\n",
        "                    reg_lambda = .1,\n",
        "                    gamma = .1)\n",
        "\n",
        "model = VotingClassifier(estimators = [('knn',bm1),('bagged_trees',bm2),('random_forest',bm3),('lgbm',bm4),('cat',bm5),('xgb',bm6)])\n",
        "\n",
        "model.fit(x_train, y_train)"
      ],
      "metadata": {
        "colab": {
          "base_uri": "https://localhost:8080/",
          "height": 108
        },
        "id": "VGZnTlXMB8Ql",
        "outputId": "d4f976bc-607f-419f-e324-9e196097b140"
      },
      "id": "VGZnTlXMB8Ql",
      "execution_count": 14,
      "outputs": [
        {
          "output_type": "execute_result",
          "data": {
            "text/plain": [
              "VotingClassifier(estimators=[('knn',\n",
              "                              KNeighborsClassifier(n_neighbors=7,\n",
              "                                                   weights='distance')),\n",
              "                             ('bagged_trees',\n",
              "                              BaggingClassifier(bootstrap=False,\n",
              "                                                bootstrap_features=True,\n",
              "                                                max_features=0.5,\n",
              "                                                max_samples=0.9,\n",
              "                                                n_estimators=100,\n",
              "                                                random_state=12)),\n",
              "                             ('random_forest',\n",
              "                              RandomForestClassifier(max_features=0.725,\n",
              "                                                     max_samples=0.8,\n",
              "                                                     random_state=1)),\n",
              "                             ('lgbm',\n",
              "                              LGBMClassifier(m...\n",
              "                                            feature_types=None, gamma=0.1,\n",
              "                                            grow_policy=None,\n",
              "                                            importance_type=None,\n",
              "                                            interaction_constraints=None,\n",
              "                                            learning_rate=0.1, max_bin=None,\n",
              "                                            max_cat_threshold=None,\n",
              "                                            max_cat_to_onehot=None,\n",
              "                                            max_delta_step=None, max_depth=8,\n",
              "                                            max_leaves=None,\n",
              "                                            min_child_weight=None, missing=nan,\n",
              "                                            monotone_constraints=None,\n",
              "                                            multi_strategy=None,\n",
              "                                            n_estimators=95, n_jobs=None,\n",
              "                                            num_parallel_tree=None,\n",
              "                                            random_state=12, ...))])"
            ],
            "text/html": [
              "<style>#sk-container-id-2 {color: black;}#sk-container-id-2 pre{padding: 0;}#sk-container-id-2 div.sk-toggleable {background-color: white;}#sk-container-id-2 label.sk-toggleable__label {cursor: pointer;display: block;width: 100%;margin-bottom: 0;padding: 0.3em;box-sizing: border-box;text-align: center;}#sk-container-id-2 label.sk-toggleable__label-arrow:before {content: \"▸\";float: left;margin-right: 0.25em;color: #696969;}#sk-container-id-2 label.sk-toggleable__label-arrow:hover:before {color: black;}#sk-container-id-2 div.sk-estimator:hover label.sk-toggleable__label-arrow:before {color: black;}#sk-container-id-2 div.sk-toggleable__content {max-height: 0;max-width: 0;overflow: hidden;text-align: left;background-color: #f0f8ff;}#sk-container-id-2 div.sk-toggleable__content pre {margin: 0.2em;color: black;border-radius: 0.25em;background-color: #f0f8ff;}#sk-container-id-2 input.sk-toggleable__control:checked~div.sk-toggleable__content {max-height: 200px;max-width: 100%;overflow: auto;}#sk-container-id-2 input.sk-toggleable__control:checked~label.sk-toggleable__label-arrow:before {content: \"▾\";}#sk-container-id-2 div.sk-estimator input.sk-toggleable__control:checked~label.sk-toggleable__label {background-color: #d4ebff;}#sk-container-id-2 div.sk-label input.sk-toggleable__control:checked~label.sk-toggleable__label {background-color: #d4ebff;}#sk-container-id-2 input.sk-hidden--visually {border: 0;clip: rect(1px 1px 1px 1px);clip: rect(1px, 1px, 1px, 1px);height: 1px;margin: -1px;overflow: hidden;padding: 0;position: absolute;width: 1px;}#sk-container-id-2 div.sk-estimator {font-family: monospace;background-color: #f0f8ff;border: 1px dotted black;border-radius: 0.25em;box-sizing: border-box;margin-bottom: 0.5em;}#sk-container-id-2 div.sk-estimator:hover {background-color: #d4ebff;}#sk-container-id-2 div.sk-parallel-item::after {content: \"\";width: 100%;border-bottom: 1px solid gray;flex-grow: 1;}#sk-container-id-2 div.sk-label:hover label.sk-toggleable__label {background-color: #d4ebff;}#sk-container-id-2 div.sk-serial::before {content: \"\";position: absolute;border-left: 1px solid gray;box-sizing: border-box;top: 0;bottom: 0;left: 50%;z-index: 0;}#sk-container-id-2 div.sk-serial {display: flex;flex-direction: column;align-items: center;background-color: white;padding-right: 0.2em;padding-left: 0.2em;position: relative;}#sk-container-id-2 div.sk-item {position: relative;z-index: 1;}#sk-container-id-2 div.sk-parallel {display: flex;align-items: stretch;justify-content: center;background-color: white;position: relative;}#sk-container-id-2 div.sk-item::before, #sk-container-id-2 div.sk-parallel-item::before {content: \"\";position: absolute;border-left: 1px solid gray;box-sizing: border-box;top: 0;bottom: 0;left: 50%;z-index: -1;}#sk-container-id-2 div.sk-parallel-item {display: flex;flex-direction: column;z-index: 1;position: relative;background-color: white;}#sk-container-id-2 div.sk-parallel-item:first-child::after {align-self: flex-end;width: 50%;}#sk-container-id-2 div.sk-parallel-item:last-child::after {align-self: flex-start;width: 50%;}#sk-container-id-2 div.sk-parallel-item:only-child::after {width: 0;}#sk-container-id-2 div.sk-dashed-wrapped {border: 1px dashed gray;margin: 0 0.4em 0.5em 0.4em;box-sizing: border-box;padding-bottom: 0.4em;background-color: white;}#sk-container-id-2 div.sk-label label {font-family: monospace;font-weight: bold;display: inline-block;line-height: 1.2em;}#sk-container-id-2 div.sk-label-container {text-align: center;}#sk-container-id-2 div.sk-container {/* jupyter's `normalize.less` sets `[hidden] { display: none; }` but bootstrap.min.css set `[hidden] { display: none !important; }` so we also need the `!important` here to be able to override the default hidden behavior on the sphinx rendered scikit-learn.org. See: https://github.com/scikit-learn/scikit-learn/issues/21755 */display: inline-block !important;position: relative;}#sk-container-id-2 div.sk-text-repr-fallback {display: none;}</style><div id=\"sk-container-id-2\" class=\"sk-top-container\"><div class=\"sk-text-repr-fallback\"><pre>VotingClassifier(estimators=[(&#x27;knn&#x27;,\n",
              "                              KNeighborsClassifier(n_neighbors=7,\n",
              "                                                   weights=&#x27;distance&#x27;)),\n",
              "                             (&#x27;bagged_trees&#x27;,\n",
              "                              BaggingClassifier(bootstrap=False,\n",
              "                                                bootstrap_features=True,\n",
              "                                                max_features=0.5,\n",
              "                                                max_samples=0.9,\n",
              "                                                n_estimators=100,\n",
              "                                                random_state=12)),\n",
              "                             (&#x27;random_forest&#x27;,\n",
              "                              RandomForestClassifier(max_features=0.725,\n",
              "                                                     max_samples=0.8,\n",
              "                                                     random_state=1)),\n",
              "                             (&#x27;lgbm&#x27;,\n",
              "                              LGBMClassifier(m...\n",
              "                                            feature_types=None, gamma=0.1,\n",
              "                                            grow_policy=None,\n",
              "                                            importance_type=None,\n",
              "                                            interaction_constraints=None,\n",
              "                                            learning_rate=0.1, max_bin=None,\n",
              "                                            max_cat_threshold=None,\n",
              "                                            max_cat_to_onehot=None,\n",
              "                                            max_delta_step=None, max_depth=8,\n",
              "                                            max_leaves=None,\n",
              "                                            min_child_weight=None, missing=nan,\n",
              "                                            monotone_constraints=None,\n",
              "                                            multi_strategy=None,\n",
              "                                            n_estimators=95, n_jobs=None,\n",
              "                                            num_parallel_tree=None,\n",
              "                                            random_state=12, ...))])</pre><b>In a Jupyter environment, please rerun this cell to show the HTML representation or trust the notebook. <br />On GitHub, the HTML representation is unable to render, please try loading this page with nbviewer.org.</b></div><div class=\"sk-container\" hidden><div class=\"sk-item sk-dashed-wrapped\"><div class=\"sk-label-container\"><div class=\"sk-label sk-toggleable\"><input class=\"sk-toggleable__control sk-hidden--visually\" id=\"sk-estimator-id-8\" type=\"checkbox\" ><label for=\"sk-estimator-id-8\" class=\"sk-toggleable__label sk-toggleable__label-arrow\">VotingClassifier</label><div class=\"sk-toggleable__content\"><pre>VotingClassifier(estimators=[(&#x27;knn&#x27;,\n",
              "                              KNeighborsClassifier(n_neighbors=7,\n",
              "                                                   weights=&#x27;distance&#x27;)),\n",
              "                             (&#x27;bagged_trees&#x27;,\n",
              "                              BaggingClassifier(bootstrap=False,\n",
              "                                                bootstrap_features=True,\n",
              "                                                max_features=0.5,\n",
              "                                                max_samples=0.9,\n",
              "                                                n_estimators=100,\n",
              "                                                random_state=12)),\n",
              "                             (&#x27;random_forest&#x27;,\n",
              "                              RandomForestClassifier(max_features=0.725,\n",
              "                                                     max_samples=0.8,\n",
              "                                                     random_state=1)),\n",
              "                             (&#x27;lgbm&#x27;,\n",
              "                              LGBMClassifier(m...\n",
              "                                            feature_types=None, gamma=0.1,\n",
              "                                            grow_policy=None,\n",
              "                                            importance_type=None,\n",
              "                                            interaction_constraints=None,\n",
              "                                            learning_rate=0.1, max_bin=None,\n",
              "                                            max_cat_threshold=None,\n",
              "                                            max_cat_to_onehot=None,\n",
              "                                            max_delta_step=None, max_depth=8,\n",
              "                                            max_leaves=None,\n",
              "                                            min_child_weight=None, missing=nan,\n",
              "                                            monotone_constraints=None,\n",
              "                                            multi_strategy=None,\n",
              "                                            n_estimators=95, n_jobs=None,\n",
              "                                            num_parallel_tree=None,\n",
              "                                            random_state=12, ...))])</pre></div></div></div><div class=\"sk-parallel\"><div class=\"sk-parallel-item\"><div class=\"sk-item\"><div class=\"sk-label-container\"><div class=\"sk-label sk-toggleable\"><label>knn</label></div></div><div class=\"sk-serial\"><div class=\"sk-item\"><div class=\"sk-estimator sk-toggleable\"><input class=\"sk-toggleable__control sk-hidden--visually\" id=\"sk-estimator-id-9\" type=\"checkbox\" ><label for=\"sk-estimator-id-9\" class=\"sk-toggleable__label sk-toggleable__label-arrow\">KNeighborsClassifier</label><div class=\"sk-toggleable__content\"><pre>KNeighborsClassifier(n_neighbors=7, weights=&#x27;distance&#x27;)</pre></div></div></div></div></div></div><div class=\"sk-parallel-item\"><div class=\"sk-item\"><div class=\"sk-label-container\"><div class=\"sk-label sk-toggleable\"><label>bagged_trees</label></div></div><div class=\"sk-serial\"><div class=\"sk-item\"><div class=\"sk-estimator sk-toggleable\"><input class=\"sk-toggleable__control sk-hidden--visually\" id=\"sk-estimator-id-10\" type=\"checkbox\" ><label for=\"sk-estimator-id-10\" class=\"sk-toggleable__label sk-toggleable__label-arrow\">BaggingClassifier</label><div class=\"sk-toggleable__content\"><pre>BaggingClassifier(bootstrap=False, bootstrap_features=True, max_features=0.5,\n",
              "                  max_samples=0.9, n_estimators=100, random_state=12)</pre></div></div></div></div></div></div><div class=\"sk-parallel-item\"><div class=\"sk-item\"><div class=\"sk-label-container\"><div class=\"sk-label sk-toggleable\"><label>random_forest</label></div></div><div class=\"sk-serial\"><div class=\"sk-item\"><div class=\"sk-estimator sk-toggleable\"><input class=\"sk-toggleable__control sk-hidden--visually\" id=\"sk-estimator-id-11\" type=\"checkbox\" ><label for=\"sk-estimator-id-11\" class=\"sk-toggleable__label sk-toggleable__label-arrow\">RandomForestClassifier</label><div class=\"sk-toggleable__content\"><pre>RandomForestClassifier(max_features=0.725, max_samples=0.8, random_state=1)</pre></div></div></div></div></div></div><div class=\"sk-parallel-item\"><div class=\"sk-item\"><div class=\"sk-label-container\"><div class=\"sk-label sk-toggleable\"><label>lgbm</label></div></div><div class=\"sk-serial\"><div class=\"sk-item\"><div class=\"sk-estimator sk-toggleable\"><input class=\"sk-toggleable__control sk-hidden--visually\" id=\"sk-estimator-id-12\" type=\"checkbox\" ><label for=\"sk-estimator-id-12\" class=\"sk-toggleable__label sk-toggleable__label-arrow\">LGBMClassifier</label><div class=\"sk-toggleable__content\"><pre>LGBMClassifier(max_depth=6, n_estimators=800, num_threads=1, random_state=1,\n",
              "               reg_lambda=0.1, subsample=0.5, verbose=-1)</pre></div></div></div></div></div></div><div class=\"sk-parallel-item\"><div class=\"sk-item\"><div class=\"sk-label-container\"><div class=\"sk-label sk-toggleable\"><label>cat</label></div></div><div class=\"sk-serial\"><div class=\"sk-item\"><div class=\"sk-estimator sk-toggleable\"><input class=\"sk-toggleable__control sk-hidden--visually\" id=\"sk-estimator-id-13\" type=\"checkbox\" ><label for=\"sk-estimator-id-13\" class=\"sk-toggleable__label sk-toggleable__label-arrow\">CatBoostClassifier</label><div class=\"sk-toggleable__content\"><pre>&lt;catboost.core.CatBoostClassifier object at 0x7ac427bc8dc0&gt;</pre></div></div></div></div></div></div><div class=\"sk-parallel-item\"><div class=\"sk-item\"><div class=\"sk-label-container\"><div class=\"sk-label sk-toggleable\"><label>xgb</label></div></div><div class=\"sk-serial\"><div class=\"sk-item\"><div class=\"sk-estimator sk-toggleable\"><input class=\"sk-toggleable__control sk-hidden--visually\" id=\"sk-estimator-id-14\" type=\"checkbox\" ><label for=\"sk-estimator-id-14\" class=\"sk-toggleable__label sk-toggleable__label-arrow\">XGBClassifier</label><div class=\"sk-toggleable__content\"><pre>XGBClassifier(base_score=None, booster=None, callbacks=None,\n",
              "              colsample_bylevel=None, colsample_bynode=None,\n",
              "              colsample_bytree=None, device=None, early_stopping_rounds=None,\n",
              "              enable_categorical=False, eval_metric=None, feature_types=None,\n",
              "              gamma=0.1, grow_policy=None, importance_type=None,\n",
              "              interaction_constraints=None, learning_rate=0.1, max_bin=None,\n",
              "              max_cat_threshold=None, max_cat_to_onehot=None,\n",
              "              max_delta_step=None, max_depth=8, max_leaves=None,\n",
              "              min_child_weight=None, missing=nan, monotone_constraints=None,\n",
              "              multi_strategy=None, n_estimators=95, n_jobs=None,\n",
              "              num_parallel_tree=None, random_state=12, ...)</pre></div></div></div></div></div></div></div></div></div></div>"
            ]
          },
          "metadata": {},
          "execution_count": 14
        }
      ]
    },
    {
      "cell_type": "markdown",
      "id": "e4fca491-c354-4eec-9755-1d17a9daf9c0",
      "metadata": {
        "id": "e4fca491-c354-4eec-9755-1d17a9daf9c0"
      },
      "source": [
        "### Prediction"
      ]
    },
    {
      "cell_type": "code",
      "source": [
        "\n",
        "y_pred_prob = model.predict(x_test)\n",
        "y_pred = y_pred_prob > .5\n",
        "integers = y_pred.astype(int)\n",
        "\n",
        "# I then used the train data and the fact that some host_id values overlapped with the test data to override predictions that I knew were wrong\n",
        "predictions = pd.DataFrame({'id': ids,'host_id':test.host_id,'predicted':integers})\n",
        "correct = train[['host_id','host_is_superhost']]\n",
        "correct = correct.sort_values(by='host_id').drop_duplicates()\n",
        "merged = pd.merge(predictions, correct, on='host_id', how='left')\n",
        "merged['host_is_superhost'].isna().sum()\n",
        "merged['host_is_superhost'] = merged['host_is_superhost'].fillna(merged['predicted'])\n",
        "merged['host_is_superhost'].isna().sum()\n",
        "merged['predicted'] = merged['host_is_superhost']\n",
        "merged.drop(columns=['host_is_superhost'], inplace=True)\n",
        "merged.drop(columns=['host_id'], inplace=True)\n",
        "\n",
        "# the output is then created using the new dataframe called merged\n",
        "output = pd.DataFrame({'id': merged.id,'predicted':merged.predicted})\n",
        "\n",
        "# create csv file of predicted classifications\n",
        "output = pd.DataFrame({'id': merged.id,'predicted':merged.predicted})\n",
        "output.to_csv('annaroneyclassification.csv', index=False)"
      ],
      "metadata": {
        "id": "bcxDxmjS94ER"
      },
      "id": "bcxDxmjS94ER",
      "execution_count": 15,
      "outputs": []
    }
  ],
  "metadata": {
    "kernelspec": {
      "display_name": "Python 3 (ipykernel)",
      "language": "python",
      "name": "python3"
    },
    "language_info": {
      "codemirror_mode": {
        "name": "ipython",
        "version": 3
      },
      "file_extension": ".py",
      "mimetype": "text/x-python",
      "name": "python",
      "nbconvert_exporter": "python",
      "pygments_lexer": "ipython3",
      "version": "3.11.7"
    },
    "colab": {
      "provenance": [],
      "include_colab_link": true
    }
  },
  "nbformat": 4,
  "nbformat_minor": 5
}